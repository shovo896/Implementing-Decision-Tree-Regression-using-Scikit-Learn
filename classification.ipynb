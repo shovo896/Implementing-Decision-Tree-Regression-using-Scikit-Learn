{
 "cells": [
  {
   "cell_type": "code",
   "execution_count": 3,
   "id": "f77ca8e2",
   "metadata": {},
   "outputs": [],
   "source": [
    "from sklearn.datasets import load_iris\n",
    "from sklearn.model_selection import train_test_split\n",
    "from sklearn.tree import DecisionTreeClassifier\n",
    "from sklearn.metrics import accuracy_score"
   ]
  },
  {
   "cell_type": "code",
   "execution_count": null,
   "id": "79b2e26b",
   "metadata": {},
   "outputs": [],
   "source": [
    "n order to perform classification load a dataset. For demonstration I will  use sample datasets from Scikit-Learn such as Iris or Breast Cancer."
   ]
  },
  {
   "cell_type": "code",
   "execution_count": 5,
   "id": "4a3e4abf",
   "metadata": {},
   "outputs": [],
   "source": [
    "data=load_iris()\n",
    "X=data.data\n",
    "y=data.target"
   ]
  }
 ],
 "metadata": {
  "kernelspec": {
   "display_name": "Python 3",
   "language": "python",
   "name": "python3"
  },
  "language_info": {
   "codemirror_mode": {
    "name": "ipython",
    "version": 3
   },
   "file_extension": ".py",
   "mimetype": "text/x-python",
   "name": "python",
   "nbconvert_exporter": "python",
   "pygments_lexer": "ipython3",
   "version": "3.13.7"
  }
 },
 "nbformat": 4,
 "nbformat_minor": 5
}
