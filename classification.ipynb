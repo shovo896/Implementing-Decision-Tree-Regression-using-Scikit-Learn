{
 "cells": [
  {
   "cell_type": "code",
   "execution_count": null,
   "id": "e3ec8d44",
   "metadata": {},
   "outputs": [],
   "source": [
    "from sklearn.datasets import load_iris \n",
    "from sklearn.model_selection import train_test_split\n",
    "from sklearn.tree import DecisionTreeClassifier \n",
    "from sklearrn.metrics import accuracy_score "
   ]
  },
  {
   "cell_type": "code",
   "execution_count": null,
   "id": "79b2e26b",
   "metadata": {},
   "outputs": [],
   "source": [
    "n order to perform classification load a dataset. For demonstration I will  use sample datasets from Scikit-Learn such as Iris or Breast Cancer."
   ]
  },
  {
   "cell_type": "code",
   "execution_count": null,
   "id": "4a3e4abf",
   "metadata": {},
   "outputs": [],
   "source": [
    "data=load_iris()\n",
    "X=data.data\n",
    "y=data.target"
   ]
  }
 ],
 "metadata": {
  "kernelspec": {
   "display_name": "Python 3",
   "language": "python",
   "name": "python3"
  },
  "language_info": {
   "name": "python",
   "version": "3.13.7"
  }
 },
 "nbformat": 4,
 "nbformat_minor": 5
}
